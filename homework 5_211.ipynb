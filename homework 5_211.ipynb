{
 "cells": [
  {
   "cell_type": "code",
   "execution_count": 31,
   "metadata": {},
   "outputs": [],
   "source": [
    "from scipy import stats, interpolate, integrate, linalg\n",
    "import numpy as np\n",
    "import pandas as pd"
   ]
  },
  {
   "cell_type": "code",
   "execution_count": 4,
   "metadata": {},
   "outputs": [
    {
     "name": "stdout",
     "output_type": "stream",
     "text": [
      "      League       Season           Stage            Player Team  GP     MIN  \\\n",
      "0        NBA  1999 - 2000  Regular_Season  Shaquille O'Neal  LAL  79  3163.0   \n",
      "1        NBA  1999 - 2000  Regular_Season      Vince Carter  TOR  82  3126.0   \n",
      "2        NBA  1999 - 2000  Regular_Season       Karl Malone  UTA  82  2947.0   \n",
      "3        NBA  1999 - 2000  Regular_Season     Allen Iverson  PHI  70  2853.0   \n",
      "4        NBA  1999 - 2000  Regular_Season       Gary Payton  SEA  82  3425.0   \n",
      "...      ...          ...             ...               ...  ...  ..     ...   \n",
      "51971    NBA  2019 - 2020  Regular_Season  Matt Dellavedova  CLE  57   820.7   \n",
      "51972    NBA  2019 - 2020  Regular_Season      Goga Bitadze  IND  54   471.3   \n",
      "51973    NBA  2019 - 2020  Regular_Season     Nassir Little  POR  48   572.5   \n",
      "51974    NBA  2019 - 2020  Regular_Season       David Nwaba  BRK  20   268.5   \n",
      "51975    NBA  2019 - 2020  Regular_Season   Al-Farouq Aminu  ORL  18   380.1   \n",
      "\n",
      "       FGM   FGA  3PM  ...    birth_date  height  height_cm  weight  \\\n",
      "0      956  1665    0  ...   Mar 6, 1972     7-1      216.0   325.0   \n",
      "1      788  1696   95  ...  Jan 26, 1977     6-6      198.0   220.0   \n",
      "2      752  1476    2  ...  Jul 24, 1963     6-9      206.0   265.0   \n",
      "3      729  1733   89  ...   Jun 7, 1975     6-0      183.0   165.0   \n",
      "4      747  1666  177  ...  Jul 23, 1968     6-4      193.0   180.0   \n",
      "...    ...   ...  ...  ...           ...     ...        ...     ...   \n",
      "51971   62   175   21  ...   Sep 8, 1990     6-4      193.0   200.0   \n",
      "51972   70   150    8  ...  Jul 20, 1999    6-11      211.0   245.0   \n",
      "51973   65   151   14  ...  Feb 11, 2000     6-6      198.0   220.0   \n",
      "51974   37    71   12  ...  Jan 14, 1993     6-4      193.0   219.0   \n",
      "51975   25    86    9  ...  Sep 21, 1990     6-9      206.0   220.0   \n",
      "\n",
      "       weight_kg              nationality                         high_school  \\\n",
      "0          147.0            United States         Robert G. Cole High School    \n",
      "1          100.0            United States                Mainland High School   \n",
      "2          120.0            United States             Summerfield High School   \n",
      "3           75.0            United States                 Bethel High School    \n",
      "4           82.0            United States                 Skyline High School   \n",
      "...          ...                      ...                                 ...   \n",
      "51971       91.0                Australia       Australian Institute of Sport   \n",
      "51972      111.0                  Georgia                                 NaN   \n",
      "51973      100.0            United States  Orlando Christian Prep High School   \n",
      "51974       99.0            United States         University City High School   \n",
      "51975      100.0  United States / Nigeria                Norcross High School   \n",
      "\n",
      "       draft_round  draft_pick              draft_team  \n",
      "0              1.0         1.0           Orlando Magic  \n",
      "1              1.0         5.0   Golden State Warriors  \n",
      "2              1.0        13.0               Utah Jazz  \n",
      "3              1.0         1.0     Philadelphia Sixers  \n",
      "4              1.0         2.0     Seattle SuperSonics  \n",
      "...            ...         ...                     ...  \n",
      "51971          NaN         NaN                     NaN  \n",
      "51972          1.0        18.0          Indiana Pacers  \n",
      "51973          1.0        25.0  Portland Trail Blazers  \n",
      "51974          NaN         NaN                     NaN  \n",
      "51975          1.0         8.0    Los Angeles Clippers  \n",
      "\n",
      "[4658 rows x 34 columns]\n"
     ]
    }
   ],
   "source": [
    "#filtering the data to only include regular season games\n",
    "with open(\"C:/Users/chemi/OneDrive/Coding/players_stats_by_season_full_details.csv\", 'r') as f:\n",
    "    data = pd.read_csv(f)\n",
    "reg_season = data[data['Stage'] == 'Regular_Season']"
   ]
  },
  {
   "cell_type": "code",
   "execution_count": 50,
   "metadata": {},
   "outputs": [
    {
     "name": "stdout",
     "output_type": "stream",
     "text": [
      "Vince Carter\n"
     ]
    }
   ],
   "source": [
    "#determing the player who has played the most games\n",
    "class Player:\n",
    "    def __init__(self, name, games):\n",
    "        self.name = name\n",
    "        self.games = games\n",
    "\n",
    "        player_games = reg_season['Player'].value_counts()\n",
    "        max_games = player_games.max()\n",
    "        player_most_games = player_games[player_games == max_games].index[0]\n",
    "    print(player_most_games)"
   ]
  },
  {
   "cell_type": "code",
   "execution_count": 54,
   "metadata": {},
   "outputs": [
    {
     "name": "stdout",
     "output_type": "stream",
     "text": [
      "Vince Carter had a three point accuracy of 40.25423728813559 percent in 1999 - 2000\n",
      "Vince Carter had a three point accuracy of 40.80604534005038 percent in 2000 - 2001\n",
      "Vince Carter had a three point accuracy of 38.65814696485623 percent in 2001 - 2002\n",
      "Vince Carter had a three point accuracy of 38.2716049382716 percent in 2003 - 2004\n",
      "Vince Carter had a three point accuracy of 40.57507987220447 percent in 2004 - 2005\n",
      "Vince Carter had a three point accuracy of 34.05994550408719 percent in 2005 - 2006\n",
      "Vince Carter had a three point accuracy of 35.6979405034325 percent in 2006 - 2007\n",
      "Vince Carter had a three point accuracy of 35.8974358974359 percent in 2007 - 2008\n",
      "Vince Carter had a three point accuracy of 38.52040816326531 percent in 2008 - 2009\n",
      "Vince Carter had a three point accuracy of 36.7283950617284 percent in 2009 - 2010\n",
      "Vince Carter had a three point accuracy of 36.13707165109034 percent in 2010 - 2011\n",
      "Vince Carter had a three point accuracy of 36.09756097560975 percent in 2011 - 2012\n",
      "Vince Carter had a three point accuracy of 40.6015037593985 percent in 2012 - 2013\n",
      "Vince Carter had a three point accuracy of 39.35309973045822 percent in 2013 - 2014\n",
      "Vince Carter had a three point accuracy of 29.74137931034483 percent in 2014 - 2015\n",
      "Vince Carter had a three point accuracy of 37.83783783783784 percent in 2016 - 2017\n",
      "Vince Carter had a three point accuracy of 34.54545454545455 percent in 2017 - 2018\n",
      "Vince Carter had a three point accuracy of 38.924050632911396 percent in 2018 - 2019\n",
      "Vince Carter had a three point accuracy of 30.198019801980198 percent in 2019 - 2020\n"
     ]
    }
   ],
   "source": [
    "# calculating Vince Carter's three point accuracy for each season\n",
    "class ThreePointAccuracy:\n",
    "    def __init__(self, player, season, accuracy):\n",
    "        self.player = player\n",
    "        self.season = season\n",
    "        self.accuracy = accuracy\n",
    "\n",
    "    vc = reg_season[reg_season['Player'] == 'Vince Carter']\n",
    "    vc_3pt_accuracy = vc['3PM'] / vc['3PA']\n",
    "    # have to drop the rows with NaN values\n",
    "    vc_3pt_accuracy = vc_3pt_accuracy.dropna()\n",
    "    for season, accuracy in zip(vc['Season'], vc_3pt_accuracy):\n",
    "        vc_3pt_accuracy_percent = accuracy * 100\n",
    "        print(\"Vince Carter had a three point accuracy of\", vc_3pt_accuracy_percent, \"percent in\", season)\n"
   ]
  },
  {
   "cell_type": "code",
   "execution_count": 56,
   "metadata": {},
   "outputs": [
    {
     "name": "stdout",
     "output_type": "stream",
     "text": [
      "The slope is: -0.0027582745098713715\n",
      "The intercept is: 0.39477458520913344\n",
      "The r value is: -0.4833590654433425\n",
      "The p value is: 0.036032411549838425\n",
      "The standard error is: 0.0012116040287473214\n",
      "Line: [0.39477459 0.39201631 0.38925804 0.38649976 0.38374149 0.38098321\n",
      " 0.37822494 0.37546666 0.37270839 0.36995011 0.36719184 0.36443357\n",
      " 0.36167529 0.35891702 0.35615874 0.35340047 0.35064219 0.34788392\n",
      " 0.34512564]\n"
     ]
    }
   ],
   "source": [
    "#perform linear regression for Vince Carter's three point accuracy across the years played\n",
    "class LinearRegression:\n",
    "    def __init__(self, slope, intercept, r_value, p_value, std_err):\n",
    "        self.slope = slope\n",
    "        self.intercept = intercept\n",
    "        self.r_value = r_value\n",
    "        self.p_value = p_value\n",
    "        self.std_err = std_err\n",
    "    vc = reg_season[reg_season['Player'] == 'Vince Carter']\n",
    "    vc_3pt_accuracy = vc['3PM'] / vc['3PA']\n",
    "    vc_3pt_accuracy = vc_3pt_accuracy.dropna()\n",
    "    x = np.arange(0, len(vc_3pt_accuracy))\n",
    "    slope, intercept, r_value, p_value, std_err = stats.linregress(x, vc_3pt_accuracy)\n",
    "    print(\"The slope is:\", slope)\n",
    "    print(\"The intercept is:\", intercept)\n",
    "    print(\"The r value is:\", r_value)\n",
    "    print(\"The p value is:\", p_value)\n",
    "    print(\"The standard error is:\", std_err)\n",
    "#Create a line of best fit for Vince Carter's three point accuracy\n",
    "    line = slope * x + intercept\n",
    "    print(\"Line:\", line)"
   ]
  },
  {
   "cell_type": "code",
   "execution_count": 70,
   "metadata": {},
   "outputs": [
    {
     "name": "stdout",
     "output_type": "stream",
     "text": [
      "<function Integration.calculate_avg_accuracy at 0x00000200B89B0EA0>\n"
     ]
    }
   ],
   "source": [
    "#calculate average three point accuracy by integrating the fit line over played seasons and dividing by the number of seasons\n",
    "class Integration:\n",
    "    def __init__(self,  player, reg_seaon, intercept, slope):\n",
    "        self.player = player\n",
    "        self.reg_season = reg_season\n",
    "        self.intercept = intercept\n",
    "        self.slope = slope\n",
    "    def f(self, x):\n",
    "        return self.slope * x + self.intercept\n",
    "    def calculate_avg_accuracy(self):\n",
    "        vc = self.reg_season[self.reg_season['Player'] == self.player]\n",
    "        return integrate.quad(self.f, 0, len(vc['3PM'] / vc['3PA'])) / len(vc['3PM'] / vc['3PA'])\n",
    "    print(calculate_avg_accuracy)\n",
    "#"
   ]
  },
  {
   "cell_type": "code",
   "execution_count": 75,
   "metadata": {},
   "outputs": [
    {
     "name": "stdout",
     "output_type": "stream",
     "text": [
      "<function Interpolation.missing_years at 0x00000200B89CF6A0>\n"
     ]
    }
   ],
   "source": [
    "# using interpolation to determine the three point accuracy for a the seasons in which Vince Carter did not play\n",
    "class Interpolation:\n",
    "    def __init__(self, player, reg_season, intercept, slope):\n",
    "        self.player = player\n",
    "        self.reg_season = reg_season\n",
    "        self.intercept = intercept\n",
    "        self.slope = slope\n",
    "    def f(self, x):\n",
    "        return self.slope * x + self.intercept\n",
    "    def interpolate(self):\n",
    "        vc = self.reg_season[self.reg_season['Player'] == self.player]\n",
    "        x = np.arange(0, len(vc['3PM'] / vc['3PA']))\n",
    "        y = self.f(x)\n",
    "        f = interpolate.interp1d(x, y, fill_value='extrapolate')\n",
    "        return f\n",
    "    def missing_years(self, missing_seasons):\n",
    "        f = self.interpolate()\n",
    "        estimations = {}\n",
    "        for season in missing_seasons:\n",
    "            x = season - min(self.reg_season[self.reg_season['Player'] == self.player]['Season'])\n",
    "            estimations[season] = f(season)\n",
    "        return estimations\n",
    "    print(missing_years)\n",
    "        "
   ]
  },
  {
   "cell_type": "code",
   "execution_count": null,
   "metadata": {},
   "outputs": [],
   "source": []
  },
  {
   "cell_type": "code",
   "execution_count": null,
   "metadata": {},
   "outputs": [],
   "source": [
    "#"
   ]
  }
 ],
 "metadata": {
  "kernelspec": {
   "display_name": "base",
   "language": "python",
   "name": "python3"
  },
  "language_info": {
   "codemirror_mode": {
    "name": "ipython",
    "version": 3
   },
   "file_extension": ".py",
   "mimetype": "text/x-python",
   "name": "python",
   "nbconvert_exporter": "python",
   "pygments_lexer": "ipython3",
   "version": "3.11.4"
  }
 },
 "nbformat": 4,
 "nbformat_minor": 2
}
